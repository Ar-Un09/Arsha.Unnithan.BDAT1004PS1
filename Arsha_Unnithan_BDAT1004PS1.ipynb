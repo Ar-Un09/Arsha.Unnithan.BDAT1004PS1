{
 "cells": [
  {
   "cell_type": "markdown",
   "id": "7c9fcf94",
   "metadata": {},
   "source": [
    "<h1><center> <font color='brown'> BDAT 1004 – Data Programming</font></center></h1>\n",
    "<h2><center> Problem Set 1</center></h2>\n",
    "<h2><center> Prepared by Arsha Unnithan (200546119)</center></h2>"
   ]
  },
  {
   "cell_type": "markdown",
   "id": "8ce2643e",
   "metadata": {},
   "source": [
    "<h3><font color='darkblue'>Question 1 </h3>"
   ]
  },
  {
   "cell_type": "markdown",
   "id": "0b6ceb8f",
   "metadata": {},
   "source": [
    "<b>What data type is each of the following (evaluate where necessary)?</b>"
   ]
  },
  {
   "cell_type": "code",
   "execution_count": 1,
   "id": "8ce5e63f",
   "metadata": {},
   "outputs": [
    {
     "name": "stdout",
     "output_type": "stream",
     "text": [
      "5 is of type <class 'int'>\n",
      "5.0 is of type <class 'float'>\n",
      "5 > 1 is of type <class 'bool'>\n",
      "'5' is of type <class 'str'>\n",
      "5 * 2 is of type <class 'int'>\n",
      "'5' * 2 is of type <class 'str'>\n",
      "'5' + '2' is of type <class 'str'>\n",
      "5 / 2 is of type <class 'float'>\n",
      "5 % 2 is of type <class 'int'>\n",
      "{5, 2, 1} is of type <class 'set'>\n",
      "5 == 3 is of type <class 'bool'>\n",
      "3.141592653589793 is of type <class 'float'>\n"
     ]
    }
   ],
   "source": [
    "xx = 5\n",
    "print(\"5 is of type\", type(xx))\n",
    "\n",
    "y = 5.0\n",
    "print(\"5.0 is of type\", type(y))\n",
    "\n",
    "z = 5 > 1\n",
    "print(\"5 > 1 is of type\", type(z))\n",
    "\n",
    "a = '5'\n",
    "print(\"'5' is of type\", type(a))\n",
    "\n",
    "b = 5 * 2\n",
    "print(\"5 * 2 is of type\", type(b))\n",
    "\n",
    "c = '5' * 2\n",
    "print(\"'5' * 2 is of type\", type(c))\n",
    "\n",
    "d = '5' + '2'\n",
    "print(\"'5' + '2' is of type\", type(d))\n",
    "\n",
    "e = 5 / 2\n",
    "print(\"5 / 2 is of type\", type(e))\n",
    "\n",
    "f = 5 % 2\n",
    "print(\"5 % 2 is of type\", type(f))\n",
    "\n",
    "g = {5, 2, 1}\n",
    "print(\"{5, 2, 1} is of type\", type(g))\n",
    "\n",
    "h = 5 == 3\n",
    "print(\"5 == 3 is of type\", type(h))\n",
    "\n",
    "import math\n",
    "i = math.pi\n",
    "print(f\"{i} is of type\", type(i))\n"
   ]
  },
  {
   "cell_type": "markdown",
   "id": "629a1661",
   "metadata": {},
   "source": [
    "<h3><font color='darkblue'>Question 2 </h3>\n",
    "   "
   ]
  },
  {
   "cell_type": "markdown",
   "id": "0fd38b85",
   "metadata": {},
   "source": [
    "<b>Write (and evaluate) python expressions that answer these questions:</b><p>\n",
    "<b>a. How many letters are there in 'Supercalifragilisticexpialidocious'?</b>"
   ]
  },
  {
   "cell_type": "code",
   "execution_count": 2,
   "id": "a115c9d2",
   "metadata": {},
   "outputs": [
    {
     "name": "stdout",
     "output_type": "stream",
     "text": [
      "There are 34 letters in the word Supercalifragilisticexpialidocious\n"
     ]
    }
   ],
   "source": [
    "word = 'Supercalifragilisticexpialidocious'\n",
    "print(f'There are {len(word)} letters in the word {word}')"
   ]
  },
  {
   "cell_type": "markdown",
   "id": "28adaa5e",
   "metadata": {},
   "source": [
    "<b>b. Does 'Supercalifragilisticexpialidocious' contain 'ice' as a substring?</b>"
   ]
  },
  {
   "cell_type": "code",
   "execution_count": 3,
   "id": "b00dd3c0",
   "metadata": {
    "scrolled": true
   },
   "outputs": [
    {
     "name": "stdout",
     "output_type": "stream",
     "text": [
      "'Supercalifragilisticexpialidocious' contains 'ice' as a substring.\n"
     ]
    }
   ],
   "source": [
    "word = 'Supercalifragilisticexpialidocious'\n",
    "substring = 'ice'\n",
    "if substring in word:\n",
    "    print(f\"'{word}' contains '{substring}' as a substring.\")\n",
    "else:\n",
    "    print(f\"'{word}' does not contain '{substring}' as a substring.\")\n"
   ]
  },
  {
   "cell_type": "markdown",
   "id": "3ae7d2f9",
   "metadata": {},
   "source": [
    "<b>c. Which of the following words is the longest: Supercalifragilisticexpialidocious, Honorificabilitudinitatibus,  or Bababadalgharaghtakamminarronnkonn? </b>"
   ]
  },
  {
   "cell_type": "code",
   "execution_count": 4,
   "id": "2ab300a7",
   "metadata": {},
   "outputs": [
    {
     "name": "stdout",
     "output_type": "stream",
     "text": [
      "The longest word is Supercalifragilisticexpialidocious\n"
     ]
    }
   ],
   "source": [
    "words = ['Supercalifragilisticexpialidocious', 'Honorificabilitudinitatibus', 'Bababadalgharaghtakamminarronnkonn']\n",
    "longest_word = max(words)\n",
    "print(\"The longest word is\", longest_word)"
   ]
  },
  {
   "cell_type": "markdown",
   "id": "a6450f72",
   "metadata": {},
   "source": [
    "<b>d. Which composer comes first in the dictionary: 'Berlioz', 'Borodin', 'Brian', 'Bartok', 'Bellini', 'Buxtehude', 'Bernstein'. Which one comes last? </b>"
   ]
  },
  {
   "cell_type": "code",
   "execution_count": 5,
   "id": "90f39fbc",
   "metadata": {},
   "outputs": [
    {
     "name": "stdout",
     "output_type": "stream",
     "text": [
      "['Bartok', 'Bellini', 'Berlioz', 'Bernstein', 'Borodin', 'Brian', 'Buxtehude']\n",
      "First composer in the dictionary: Bartok\n",
      "Last composer in the dictionary: Buxtehude\n"
     ]
    }
   ],
   "source": [
    "composer = ['Berlioz', 'Borodin', 'Brian', 'Bartok', 'Bellini', 'Buxtehude', 'Bernstein']\n",
    "composer.sort()\n",
    "print(composer) \n",
    "print(\"First composer in the dictionary:\", min(composer))\n",
    "print(\"Last composer in the dictionary:\", max(composer))"
   ]
  },
  {
   "cell_type": "markdown",
   "id": "91f3e694",
   "metadata": {},
   "source": [
    "<h3><font color='darkblue'>Question 3 </h3>\n",
    "   "
   ]
  },
  {
   "cell_type": "markdown",
   "id": "761a8d31",
   "metadata": {},
   "source": [
    "<b>Implement function triangleArea(a,b,c) that takes as input the lengths of the 3 sides of a triangle and returns the area of the triangle. By Heron's formula, the area of a triangle with side lengths a, b, and c is  sq root of(s(s-a)(s-b)(s-c)), where   s=(a+b+c)/2.   >>> triangleArea(2,2,2) 1.7320508075688772 </b>"
   ]
  },
  {
   "cell_type": "code",
   "execution_count": 6,
   "id": "fea086cd",
   "metadata": {},
   "outputs": [
    {
     "name": "stdout",
     "output_type": "stream",
     "text": [
      "The area of triangle with sides a = 2, b=2 and c=2 is 1.7320508075688772\n"
     ]
    }
   ],
   "source": [
    "def triangleArea(a,b,c):\n",
    "    s = (a+b+c)/2 \n",
    "    return (s*(s-a)*(s-b)*(s-c))**(1/2)\n",
    "print(\"The area of triangle with sides a = 2, b=2 and c=2 is\", triangleArea(2,2,2))"
   ]
  },
  {
   "cell_type": "markdown",
   "id": "e1732593",
   "metadata": {},
   "source": [
    "<h3><font color='darkblue'>Question 4 </h3>"
   ]
  },
  {
   "cell_type": "markdown",
   "id": "1f7f9b3b",
   "metadata": {},
   "source": [
    "<b> Write a program in python to separate odd and even integers in separate arrays. </b>"
   ]
  },
  {
   "cell_type": "code",
   "execution_count": 7,
   "id": "68f01c4b",
   "metadata": {
    "scrolled": true
   },
   "outputs": [
    {
     "name": "stdout",
     "output_type": "stream",
     "text": [
      "Test Data\n",
      "Input the number of elements to be stored in the array: 5\n",
      "element 0: 47\n",
      "element 1: 25\n",
      "element 2: 42\n",
      "element 3: 32\n",
      "element 4: 56\n",
      "The Even elements are: [42, 32, 56]\n",
      "The Odd elements are: [47, 25]\n"
     ]
    }
   ],
   "source": [
    "print('Test Data')\n",
    "number = int(input(\"Input the number of elements to be stored in the array: \"))\n",
    "arr = [int(input(f\"element {i}: \")) for i in range(number)]\n",
    "even = [num for num in arr if num % 2 == 0]\n",
    "odd = [num for num in arr if num % 2 != 0]\n",
    "\n",
    "print(\"The Even elements are:\", even)\n",
    "print(\"The Odd elements are:\", odd)"
   ]
  },
  {
   "cell_type": "markdown",
   "id": "8b2c540b",
   "metadata": {},
   "source": [
    "<h3><font color='darkblue'>Question 5 </h3>"
   ]
  },
  {
   "cell_type": "markdown",
   "id": "e0dda8a6",
   "metadata": {},
   "source": [
    "<b> a. Write a function inside(x,y,x1,y1,x2,y2) that returns True or False depending on whether the point (x,y) lies in the rectangle with lower left corner (x1,y1) and upper right corner (x2,y2). >inside(1,1,0,0,2,3) &> inside(-1,-1,0,0,2,3)  </b>"
   ]
  },
  {
   "cell_type": "code",
   "execution_count": 8,
   "id": "5ea991a5",
   "metadata": {},
   "outputs": [
    {
     "name": "stdout",
     "output_type": "stream",
     "text": [
      "True\n",
      "False\n"
     ]
    }
   ],
   "source": [
    "def inside(x, y, x1, y1, x2, y2):\n",
    "    if x1 <= x <= x2 and y1 <= y <= y2:\n",
    "        return (True)\n",
    "    else:\n",
    "        return (False)\n",
    "    \n",
    "print(inside(1,1,0,0,2,3))\n",
    "print(inside(-1,-1,0,0,2,3))"
   ]
  },
  {
   "cell_type": "markdown",
   "id": "80bcb379",
   "metadata": {},
   "source": [
    "<b> b. Use function inside() from part a. to write an expression that tests whether the point (1,1) lies in both of the following rectangles: one with lower left corner (0.3, 0.5) and upper right corner (1.1, 0.7) and the other with lower left corner (0.5, 0.2) and upper right corner (1.1, 2). </b>"
   ]
  },
  {
   "cell_type": "code",
   "execution_count": 9,
   "id": "43a1b484",
   "metadata": {},
   "outputs": [
    {
     "name": "stdout",
     "output_type": "stream",
     "text": [
      "The point (1,1) does not lie in both rectangles.\n"
     ]
    }
   ],
   "source": [
    "def inside(x, y, x1, y1, x2, y2):\n",
    "    if x1 <= x <= x2 and y1 <= y <= y2:\n",
    "        return (True)\n",
    "    else:\n",
    "        return (False)\n",
    "    \n",
    "rectangle_1 = inside(1, 1, 0.3, 0.5, 1.1, 0.7)\n",
    "rectangle_2 = inside(1, 1, 0.5, 0.2, 1.1, 2)\n",
    "\n",
    "if rectangle_1 and rectangle_2:\n",
    "    print(\"The point (1,1) lies in both rectangles.\")\n",
    "else:\n",
    "    print(\"The point (1,1) does not lie in both rectangles.\")"
   ]
  },
  {
   "cell_type": "markdown",
   "id": "42cfda63",
   "metadata": {},
   "source": [
    "<h3><font color='darkblue'>Question 6 </h3>"
   ]
  },
  {
   "cell_type": "markdown",
   "id": "c82482b5",
   "metadata": {},
   "source": [
    "<b> Turn a word into pig-Latin </b>"
   ]
  },
  {
   "cell_type": "code",
   "execution_count": 10,
   "id": "a4e52e87",
   "metadata": {},
   "outputs": [
    {
     "name": "stdout",
     "output_type": "stream",
     "text": [
      "appyhay\n",
      "enterway\n"
     ]
    }
   ],
   "source": [
    "def pig(word):\n",
    "    vowels = \"aeiou\"\n",
    "    word = word.lower()\n",
    "    if word[0] in vowels:\n",
    "        return word + \"way\"\n",
    "    else:\n",
    "        return word[1:] + word[0] + \"ay\"\n",
    "print(pig(\"Happy\"))\n",
    "print(pig(\"Enter\"))"
   ]
  },
  {
   "cell_type": "markdown",
   "id": "9b5d84ba",
   "metadata": {},
   "source": [
    "<h3><font color='darkblue'>Question 7 </h3>"
   ]
  },
  {
   "cell_type": "markdown",
   "id": "e4836208",
   "metadata": {},
   "source": [
    "<b>Write a function bldcount()</b>"
   ]
  },
  {
   "cell_type": "code",
   "execution_count": 11,
   "id": "5cac5589",
   "metadata": {},
   "outputs": [
    {
     "name": "stdout",
     "output_type": "stream",
     "text": [
      "There are 15  patients of blood type A\n",
      "There are 1  patients of blood type B\n",
      "There are 13  patients of blood type AB\n",
      "There are 15  patients of blood type O\n",
      "There are 0  patients of blood type OO\n"
     ]
    }
   ],
   "source": [
    "def bldcount(filename): \n",
    "    bld_count = {'A':0, 'B':0, 'AB':0, 'O':0, 'OO':0} \n",
    "\n",
    "    with open(filename) as f: \n",
    "        for line in f: \n",
    "            bldtype = line.strip() \n",
    "            bld_count[bldtype] += 1\n",
    "\n",
    "    print(\"There are\", bld_count['A'], \" patients of blood type A\") \n",
    "    print(\"There are\", bld_count['B'], \" patients of blood type B\") \n",
    "    print(\"There are\", bld_count['AB'], \" patients of blood type AB\") \n",
    "    print(\"There are\", bld_count['O'], \" patients of blood type O\") \n",
    "    print(\"There are\", bld_count['OO'], \" patients of blood type OO\")\n",
    "bldcount('bloodtype.txt')"
   ]
  },
  {
   "cell_type": "markdown",
   "id": "0ffb3dad",
   "metadata": {},
   "source": [
    "<h3><font color='darkblue'>Question 8 </h3>"
   ]
  },
  {
   "cell_type": "markdown",
   "id": "ec6efd8c",
   "metadata": {},
   "source": [
    "<b> Write a function curconv() </b>"
   ]
  },
  {
   "cell_type": "code",
   "execution_count": 12,
   "id": "0cb26597",
   "metadata": {
    "scrolled": true
   },
   "outputs": [
    {
     "name": "stdout",
     "output_type": "stream",
     "text": [
      "USD 122.96544\n",
      "USD 1.241401\n"
     ]
    }
   ],
   "source": [
    "def curconv(currency, amount_for_conversion):\n",
    "    with open(\"currencies.txt\") as f:\n",
    "       \n",
    "        for line in f.readlines():\n",
    "            fields = line.split()\n",
    "            currency_type, rate = fields[0], float(fields[1])\n",
    "            if(currency_type == currency):\n",
    "                 return rate * amount_for_conversion\n",
    "\n",
    "print(\"USD\",(curconv(\"EUR\", 100)))\n",
    "print(\"USD\",(curconv(\"JPY\", 100)))"
   ]
  },
  {
   "cell_type": "markdown",
   "id": "ae53c6d8",
   "metadata": {},
   "source": [
    "<h3><font color='darkblue'>Question 9 </h3>"
   ]
  },
  {
   "cell_type": "markdown",
   "id": "4da7ea34",
   "metadata": {},
   "source": [
    "<b> Each of the following will cause an exception (an error). Identify what type of\n",
    "exception each will cause. </b>"
   ]
  },
  {
   "cell_type": "markdown",
   "id": "60bf5811",
   "metadata": {},
   "source": [
    "<b>a. Trying to add incompatible variables, as in adding 6 + ‘a’"
   ]
  },
  {
   "cell_type": "code",
   "execution_count": 13,
   "id": "d47ca190",
   "metadata": {
    "scrolled": true
   },
   "outputs": [
    {
     "ename": "TypeError",
     "evalue": "unsupported operand type(s) for +: 'int' and 'str'",
     "output_type": "error",
     "traceback": [
      "\u001b[1;31m---------------------------------------------------------------------------\u001b[0m",
      "\u001b[1;31mTypeError\u001b[0m                                 Traceback (most recent call last)",
      "\u001b[1;32m~\\AppData\\Local\\Temp\\ipykernel_23836\\55046823.py\u001b[0m in \u001b[0;36m<module>\u001b[1;34m\u001b[0m\n\u001b[1;32m----> 1\u001b[1;33m \u001b[1;36m6\u001b[0m \u001b[1;33m+\u001b[0m \u001b[1;34m'a'\u001b[0m\u001b[1;33m\u001b[0m\u001b[1;33m\u001b[0m\u001b[0m\n\u001b[0m",
      "\u001b[1;31mTypeError\u001b[0m: unsupported operand type(s) for +: 'int' and 'str'"
     ]
    }
   ],
   "source": [
    "6 + 'a'"
   ]
  },
  {
   "cell_type": "markdown",
   "id": "8c8c669a",
   "metadata": {},
   "source": [
    "<i>TypeError: unsupported operand type(s) for +: 'int' and 'str'"
   ]
  },
  {
   "cell_type": "markdown",
   "id": "cd671a48",
   "metadata": {},
   "source": [
    "<b> b. Referring to the 12th item of a list that has only 10 items"
   ]
  },
  {
   "cell_type": "code",
   "execution_count": 14,
   "id": "78b6f08e",
   "metadata": {},
   "outputs": [
    {
     "ename": "IndexError",
     "evalue": "list index out of range",
     "output_type": "error",
     "traceback": [
      "\u001b[1;31m---------------------------------------------------------------------------\u001b[0m",
      "\u001b[1;31mIndexError\u001b[0m                                Traceback (most recent call last)",
      "\u001b[1;32m~\\AppData\\Local\\Temp\\ipykernel_23836\\3776743959.py\u001b[0m in \u001b[0;36m<module>\u001b[1;34m\u001b[0m\n\u001b[0;32m      1\u001b[0m \u001b[0mlst\u001b[0m \u001b[1;33m=\u001b[0m \u001b[1;33m[\u001b[0m\u001b[1;36m1\u001b[0m\u001b[1;33m,\u001b[0m\u001b[1;36m2\u001b[0m\u001b[1;33m,\u001b[0m\u001b[1;36m3\u001b[0m\u001b[1;33m,\u001b[0m\u001b[1;36m4\u001b[0m\u001b[1;33m,\u001b[0m\u001b[1;36m5\u001b[0m\u001b[1;33m,\u001b[0m\u001b[1;36m6\u001b[0m\u001b[1;33m,\u001b[0m\u001b[1;36m7\u001b[0m\u001b[1;33m,\u001b[0m\u001b[1;36m8\u001b[0m\u001b[1;33m,\u001b[0m\u001b[1;36m9\u001b[0m\u001b[1;33m,\u001b[0m\u001b[1;36m10\u001b[0m\u001b[1;33m]\u001b[0m\u001b[1;33m\u001b[0m\u001b[1;33m\u001b[0m\u001b[0m\n\u001b[1;32m----> 2\u001b[1;33m \u001b[0mprint\u001b[0m\u001b[1;33m(\u001b[0m\u001b[0mlst\u001b[0m\u001b[1;33m[\u001b[0m\u001b[1;36m11\u001b[0m\u001b[1;33m]\u001b[0m\u001b[1;33m)\u001b[0m\u001b[1;33m\u001b[0m\u001b[1;33m\u001b[0m\u001b[0m\n\u001b[0m",
      "\u001b[1;31mIndexError\u001b[0m: list index out of range"
     ]
    }
   ],
   "source": [
    "lst = [1,2,3,4,5,6,7,8,9,10]\n",
    "print(lst[11])"
   ]
  },
  {
   "cell_type": "markdown",
   "id": "8af2f37c",
   "metadata": {},
   "source": [
    "<i> indexError: list index out of range"
   ]
  },
  {
   "cell_type": "markdown",
   "id": "9db49a42",
   "metadata": {},
   "source": [
    "<b> c. Using a value that is out of range for a function’s input, such as calling math.sqrt(-1.0)"
   ]
  },
  {
   "cell_type": "code",
   "execution_count": 15,
   "id": "47123df1",
   "metadata": {
    "scrolled": true
   },
   "outputs": [
    {
     "ename": "ValueError",
     "evalue": "math domain error",
     "output_type": "error",
     "traceback": [
      "\u001b[1;31m---------------------------------------------------------------------------\u001b[0m",
      "\u001b[1;31mValueError\u001b[0m                                Traceback (most recent call last)",
      "\u001b[1;32m~\\AppData\\Local\\Temp\\ipykernel_23836\\3755102649.py\u001b[0m in \u001b[0;36m<module>\u001b[1;34m\u001b[0m\n\u001b[0;32m      1\u001b[0m \u001b[1;32mimport\u001b[0m \u001b[0mmath\u001b[0m\u001b[1;33m\u001b[0m\u001b[1;33m\u001b[0m\u001b[0m\n\u001b[1;32m----> 2\u001b[1;33m \u001b[0mprint\u001b[0m\u001b[1;33m(\u001b[0m\u001b[0mmath\u001b[0m\u001b[1;33m.\u001b[0m\u001b[0msqrt\u001b[0m\u001b[1;33m(\u001b[0m\u001b[1;33m-\u001b[0m\u001b[1;36m1.0\u001b[0m\u001b[1;33m)\u001b[0m\u001b[1;33m)\u001b[0m\u001b[1;33m\u001b[0m\u001b[1;33m\u001b[0m\u001b[0m\n\u001b[0m",
      "\u001b[1;31mValueError\u001b[0m: math domain error"
     ]
    }
   ],
   "source": [
    "import math\n",
    "print(math.sqrt(-1.0))"
   ]
  },
  {
   "cell_type": "markdown",
   "id": "1596fe1a",
   "metadata": {},
   "source": [
    "<i>  ValueError: math domain error"
   ]
  },
  {
   "cell_type": "markdown",
   "id": "f0aff1c2",
   "metadata": {},
   "source": [
    "<b> d. Using an undeclared variable, such as print(x) when x has not been defined "
   ]
  },
  {
   "cell_type": "code",
   "execution_count": 16,
   "id": "a9e423ab",
   "metadata": {
    "scrolled": true
   },
   "outputs": [
    {
     "ename": "NameError",
     "evalue": "name 'x' is not defined",
     "output_type": "error",
     "traceback": [
      "\u001b[1;31m---------------------------------------------------------------------------\u001b[0m",
      "\u001b[1;31mNameError\u001b[0m                                 Traceback (most recent call last)",
      "\u001b[1;32m~\\AppData\\Local\\Temp\\ipykernel_23836\\1353120783.py\u001b[0m in \u001b[0;36m<module>\u001b[1;34m\u001b[0m\n\u001b[1;32m----> 1\u001b[1;33m \u001b[0mprint\u001b[0m\u001b[1;33m(\u001b[0m\u001b[0mx\u001b[0m\u001b[1;33m)\u001b[0m\u001b[1;33m\u001b[0m\u001b[1;33m\u001b[0m\u001b[0m\n\u001b[0m",
      "\u001b[1;31mNameError\u001b[0m: name 'x' is not defined"
     ]
    }
   ],
   "source": [
    "print(x)"
   ]
  },
  {
   "cell_type": "markdown",
   "id": "d4cc389b",
   "metadata": {},
   "source": [
    "<i> NameError: name 'x' is not defined"
   ]
  },
  {
   "cell_type": "markdown",
   "id": "020d71cb",
   "metadata": {},
   "source": [
    "<b> e. Trying to open a file that does not exist, such as mistyping the file name or looking in the wrong directory."
   ]
  },
  {
   "cell_type": "code",
   "execution_count": 17,
   "id": "6921d8fd",
   "metadata": {
    "scrolled": true
   },
   "outputs": [
    {
     "ename": "FileNotFoundError",
     "evalue": "[Errno 2] No such file or directory: 'bloodCant.txt'",
     "output_type": "error",
     "traceback": [
      "\u001b[1;31m---------------------------------------------------------------------------\u001b[0m",
      "\u001b[1;31mFileNotFoundError\u001b[0m                         Traceback (most recent call last)",
      "\u001b[1;32m~\\AppData\\Local\\Temp\\ipykernel_23836\\1605404903.py\u001b[0m in \u001b[0;36m<module>\u001b[1;34m\u001b[0m\n\u001b[1;32m----> 1\u001b[1;33m \u001b[0mf\u001b[0m \u001b[1;33m=\u001b[0m \u001b[0mopen\u001b[0m\u001b[1;33m(\u001b[0m\u001b[1;34m\"bloodCant.txt\"\u001b[0m\u001b[1;33m)\u001b[0m\u001b[1;33m\u001b[0m\u001b[1;33m\u001b[0m\u001b[0m\n\u001b[0m",
      "\u001b[1;31mFileNotFoundError\u001b[0m: [Errno 2] No such file or directory: 'bloodCant.txt'"
     ]
    }
   ],
   "source": [
    "f = open(\"bloodCant.txt\")"
   ]
  },
  {
   "cell_type": "markdown",
   "id": "559432a9",
   "metadata": {},
   "source": [
    "<i> FileNotFoundError: [Errno 2] No such file or directory: 'filename'"
   ]
  },
  {
   "cell_type": "markdown",
   "id": "dde75450",
   "metadata": {},
   "source": [
    "<h3><font color='darkblue'>Question 10</h3>\n"
   ]
  },
  {
   "cell_type": "markdown",
   "id": "d74dd18b",
   "metadata": {},
   "source": [
    "<b> Encryption</b>"
   ]
  },
  {
   "cell_type": "code",
   "execution_count": 18,
   "id": "d535edab",
   "metadata": {},
   "outputs": [
    {
     "data": {
      "text/plain": [
       "[1, 1, 1, 3, 5, 1, 1, 2, 1, 0, 1, 0, 1, 2, 4, 0, 1, 2, 0, 2, 1, 0, 1, 1, 0, 0]"
      ]
     },
     "execution_count": 18,
     "metadata": {},
     "output_type": "execute_result"
    }
   ],
   "source": [
    "def frequencies(text):\n",
    "    letters = 'abcdefghijklmnopqrstuvwxyz'\n",
    "    frequency_list = [0] * 26\n",
    "    for char in text:\n",
    "        if char in letters:\n",
    "            frequency_list[letters.index(char)] += 1\n",
    "    return frequency_list\n",
    "frequencies('The quick red fox got bored and went home.')"
   ]
  },
  {
   "cell_type": "code",
   "execution_count": 19,
   "id": "68fa55d3",
   "metadata": {},
   "outputs": [
    {
     "data": {
      "text/plain": [
       "[1, 0, 0, 0, 1, 0, 0, 0, 0, 0, 0, 1, 0, 0, 0, 2, 0, 0, 0, 0, 0, 0, 0, 0, 0, 0]"
      ]
     },
     "execution_count": 19,
     "metadata": {},
     "output_type": "execute_result"
    }
   ],
   "source": [
    "frequencies('apple')"
   ]
  },
  {
   "cell_type": "markdown",
   "id": "e7f7924a",
   "metadata": {},
   "source": [
    "<b>END</b>"
   ]
  }
 ],
 "metadata": {
  "kernelspec": {
   "display_name": "Python 3 (ipykernel)",
   "language": "python",
   "name": "python3"
  },
  "language_info": {
   "codemirror_mode": {
    "name": "ipython",
    "version": 3
   },
   "file_extension": ".py",
   "mimetype": "text/x-python",
   "name": "python",
   "nbconvert_exporter": "python",
   "pygments_lexer": "ipython3",
   "version": "3.9.13"
  }
 },
 "nbformat": 4,
 "nbformat_minor": 5
}
